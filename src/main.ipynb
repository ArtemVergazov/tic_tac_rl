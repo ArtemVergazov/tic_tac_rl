{
 "cells": [
  {
   "cell_type": "code",
   "execution_count": 1,
   "metadata": {},
   "outputs": [],
   "source": [
    "from tic_tac_toe_game import game\n",
    "from tic_tac_toe_environment import TicTacToeEnvironment\n",
    "from agent import Agent"
   ]
  },
  {
   "cell_type": "code",
   "execution_count": 2,
   "metadata": {},
   "outputs": [],
   "source": [
    "env = TicTacToeEnvironment(Agent('o'))\n",
    "agent = Agent('x')"
   ]
  },
  {
   "cell_type": "code",
   "execution_count": 5,
   "metadata": {},
   "outputs": [],
   "source": [
    "xcount = 0\n",
    "ocount = 0\n",
    "ties_count = 0\n",
    "for _ in range(1000):\n",
    "    res = game(env, agent)\n",
    "    match res:\n",
    "        case 'x':\n",
    "            xcount += 1\n",
    "        case 'o':\n",
    "            ocount += 1\n",
    "        case 'tie':\n",
    "            ties_count += 1\n",
    "        case _:\n",
    "            print(res)"
   ]
  },
  {
   "cell_type": "code",
   "execution_count": 6,
   "metadata": {},
   "outputs": [
    {
     "data": {
      "text/plain": [
       "(564, 383, 53)"
      ]
     },
     "execution_count": 6,
     "metadata": {},
     "output_type": "execute_result"
    }
   ],
   "source": [
    "xcount, ocount, ties_count"
   ]
  }
 ],
 "metadata": {
  "kernelspec": {
   "display_name": "rl",
   "language": "python",
   "name": "python3"
  },
  "language_info": {
   "codemirror_mode": {
    "name": "ipython",
    "version": 3
   },
   "file_extension": ".py",
   "mimetype": "text/x-python",
   "name": "python",
   "nbconvert_exporter": "python",
   "pygments_lexer": "ipython3",
   "version": "3.11.5"
  }
 },
 "nbformat": 4,
 "nbformat_minor": 2
}
