{
 "cells": [
  {
   "cell_type": "code",
   "execution_count": 1,
   "metadata": {},
   "outputs": [],
   "source": [
    "import matplotlib.pyplot as plt\n",
    "from train import game\n",
    "from tic_tac_toe_environment import TicTacToeEnvironment\n",
    "from agent import Agent"
   ]
  },
  {
   "cell_type": "code",
   "execution_count": 2,
   "metadata": {},
   "outputs": [],
   "source": [
    "env = TicTacToeEnvironment(Agent('o'))\n",
    "agent = Agent('x', learning_rate=1., eps=.5)"
   ]
  },
  {
   "cell_type": "code",
   "execution_count": 3,
   "metadata": {},
   "outputs": [],
   "source": [
    "xcount = 0\n",
    "ocount = 0\n",
    "ties_count = 0\n",
    "for _ in range(1_000):\n",
    "    res = game(env, agent, train=True)\n",
    "    match res:\n",
    "        case 'x':\n",
    "            xcount += 1\n",
    "        case 'o':\n",
    "            ocount += 1\n",
    "        case 'tie':\n",
    "            ties_count += 1\n",
    "        case _:\n",
    "            print(res)"
   ]
  },
  {
   "cell_type": "code",
   "execution_count": 4,
   "metadata": {},
   "outputs": [
    {
     "data": {
      "text/plain": [
       "(528, 405, 67)"
      ]
     },
     "execution_count": 4,
     "metadata": {},
     "output_type": "execute_result"
    }
   ],
   "source": [
    "xcount, ocount, ties_count"
   ]
  },
  {
   "cell_type": "code",
   "execution_count": 5,
   "metadata": {},
   "outputs": [
    {
     "data": {
      "image/png": "[encoded data removed]",
      "text/plain": [
       "<Figure size 640x480 with 1 Axes>"
      ]
     },
     "metadata": {},
     "output_type": "display_data"
    }
   ],
   "source": [
    "plt.hist([max(v.values()) for v in agent.qtable.values()]);"
   ]
  },
  {
   "cell_type": "code",
   "execution_count": 7,
   "metadata": {},
   "outputs": [],
   "source": [
    "env = TicTacToeEnvironment(Agent('o'))\n",
    "agent = Agent('x')"
   ]
  },
  {
   "cell_type": "code",
   "execution_count": 10,
   "metadata": {},
   "outputs": [],
   "source": [
    "num_iter = 1000\n",
    "results = {}\n",
    "\n",
    "for i in range(num_iter):\n",
    "    env.reset()\n",
    "    next_state = env.board\n",
    "    while True:\n",
    "        state = next_state\n",
    "        action = agent.sample_action(state)\n",
    "        next_state, reward, winner, tie = env.step(action)\n",
    "        if winner or tie:\n",
    "            break\n",
    "        \n",
    "    if reward not in results:\n",
    "        results[reward] = 0\n",
    "    results[reward] += 1\n"
   ]
  },
  {
   "cell_type": "code",
   "execution_count": 11,
   "metadata": {},
   "outputs": [
    {
     "data": {
      "text/plain": [
       "{-10.0: 415, 10.0: 511, 5.0: 74}"
      ]
     },
     "execution_count": 11,
     "metadata": {},
     "output_type": "execute_result"
    }
   ],
   "source": [
    "results"
   ]
  }
 ],
 "metadata": {
  "kernelspec": {
   "display_name": "rl",
   "language": "python",
   "name": "python3"
  },
  "language_info": {
   "codemirror_mode": {
    "name": "ipython",
    "version": 3
   },
   "file_extension": ".py",
   "mimetype": "text/x-python",
   "name": "python",
   "nbconvert_exporter": "python",
   "pygments_lexer": "ipython3",
   "version": "3.11.5"
  }
 },
 "nbformat": 4,
 "nbformat_minor": 2
}
